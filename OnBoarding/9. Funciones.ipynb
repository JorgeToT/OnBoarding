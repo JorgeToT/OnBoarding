{
 "cells": [
  {
   "cell_type": "markdown",
   "metadata": {},
   "source": [
    "## <center>Ejercicio 1: Trabajar con argumentos en funciones</center>"
   ]
  },
  {
   "cell_type": "code",
   "execution_count": 16,
   "metadata": {},
   "outputs": [],
   "source": [
    "def promedio (datos):\n",
    "    return sum(datos)/len(datos)"
   ]
  },
  {
   "cell_type": "code",
   "execution_count": 17,
   "metadata": {},
   "outputs": [],
   "source": [
    "def Informe (comb1, comb2, comb3):\n",
    "    return f\"\"\"Informe de combustible:\n",
    "    Promedio de combustible disponible: {promedio([comb1,comb2,comb3])}%\n",
    "    Combustible 1: {comb1}%\n",
    "    Combustible 2: {comb2}%\n",
    "    Combustible 3: {comb3}%\n",
    "    \"\"\""
   ]
  },
  {
   "cell_type": "code",
   "execution_count": 18,
   "metadata": {},
   "outputs": [
    {
     "name": "stdout",
     "output_type": "stream",
     "text": [
      "Informe de combustible:\n",
      "    Promedio de combustible disponible: 78.0%\n",
      "    Combustible 1: 88%\n",
      "    Combustible 2: 76%\n",
      "    Combustible 3: 70%\n",
      "    \n"
     ]
    }
   ],
   "source": [
    "print(Informe(88, 76, 70))"
   ]
  },
  {
   "cell_type": "markdown",
   "metadata": {},
   "source": [
    "## <center>Ejercicio 2: Trabajo con argumentos de palabra clave</center>"
   ]
  },
  {
   "cell_type": "code",
   "execution_count": 25,
   "metadata": {},
   "outputs": [
    {
     "name": "stdout",
     "output_type": "stream",
     "text": [
      "Mission Report: \n",
      "    Destiny: Moon\n",
      "    Fly time: 29\n",
      "    External tank: 200000\n",
      "    Internal tank: 300000\n",
      "    \n"
     ]
    }
   ],
   "source": [
    "def informeDeMision (horaPrelanzamiento, tiempoDeVuelo, destino, tanqueExterno, tanqueInterno):\n",
    "    return f\"\"\"Mission Report: \n",
    "    Destiny: {destino}\n",
    "    Fly time: {horaPrelanzamiento+tiempoDeVuelo}\n",
    "    External tank: {tanqueExterno}\n",
    "    Internal tank: {tanqueInterno}\n",
    "    \"\"\"\n",
    "print(informeDeMision(14,15,'Moon',200000,300000))"
   ]
  },
  {
   "cell_type": "code",
   "execution_count": 26,
   "metadata": {},
   "outputs": [
    {
     "name": "stdout",
     "output_type": "stream",
     "text": [
      "Mission Report: \n",
      "    Destiny: Moon\n",
      "    Fly time: 76\n",
      "    External tank: 500000\n",
      "    \n"
     ]
    }
   ],
   "source": [
    "def informeDeMision (destino,  *minutos, **fuelReservoirs):\n",
    "    return f\"\"\"Mission Report: \n",
    "    Destiny: {destino}\n",
    "    Fly time: {sum(minutos)}\n",
    "    External tank: {sum(fuelReservoirs.values())}\n",
    "    \"\"\"\n",
    "print(informeDeMision('Moon',10,15,51,main=300000,external=200000))"
   ]
  },
  {
   "cell_type": "code",
   "execution_count": 31,
   "metadata": {},
   "outputs": [
    {
     "name": "stdout",
     "output_type": "stream",
     "text": [
      "Mission Report: \n",
      "    Destiny: Moon\n",
      "    Fly time: 76 minutes\n",
      "    External tank: 500000%\n",
      "\n",
      "    Main tank have: 300000 gallons\n",
      "External tank have: 200000 gallons\n",
      "\n"
     ]
    }
   ],
   "source": [
    "def informeDeMision (destino,  *minutos, **fuelReservoirs):\n",
    "    report = f\"\"\"Mission Report: \n",
    "    Destiny: {destino}\n",
    "    Fly time: {sum(minutos)} minutes\n",
    "    External tank: {sum(fuelReservoirs.values())}%\n",
    "\n",
    "    \"\"\"\n",
    "    for i, j  in fuelReservoirs.items():\n",
    "        report += f\"\"\"{i.title()} tank have: {j} gallons\\n\"\"\"\n",
    "    return report\n",
    "\n",
    "print(informeDeMision('Moon',10,15,51,main=300000,external=200000))"
   ]
  }
 ],
 "metadata": {
  "interpreter": {
   "hash": "8c37f659ee352803373ae2aff34d3293b2cfc7221da1b2ac1690c34365563ba0"
  },
  "kernelspec": {
   "display_name": "Python 3.9.2 64-bit",
   "language": "python",
   "name": "python3"
  },
  "language_info": {
   "codemirror_mode": {
    "name": "ipython",
    "version": 3
   },
   "file_extension": ".py",
   "mimetype": "text/x-python",
   "name": "python",
   "nbconvert_exporter": "python",
   "pygments_lexer": "ipython3",
   "version": "3.9.2"
  },
  "orig_nbformat": 4
 },
 "nbformat": 4,
 "nbformat_minor": 2
}
